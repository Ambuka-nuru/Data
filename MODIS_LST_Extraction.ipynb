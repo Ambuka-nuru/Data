{
  "nbformat": 4,
  "nbformat_minor": 0,
  "metadata": {
    "colab": {
      "provenance": [],
      "authorship_tag": "ABX9TyMHI4GSk0jHi/EQfgNBgN0z",
      "include_colab_link": true
    },
    "kernelspec": {
      "name": "python3",
      "display_name": "Python 3"
    },
    "language_info": {
      "name": "python"
    }
  },
  "cells": [
    {
      "cell_type": "markdown",
      "metadata": {
        "id": "view-in-github",
        "colab_type": "text"
      },
      "source": [
        "<a href=\"https://colab.research.google.com/github/Ambuka-nuru/Data/blob/main/MODIS_LST_Extraction.ipynb\" target=\"_parent\"><img src=\"https://colab.research.google.com/assets/colab-badge.svg\" alt=\"Open In Colab\"/></a>"
      ]
    },
    {
      "cell_type": "code",
      "source": [
        "# Background Information\n",
        "# The farm plots were generated randomly using geojson.io and saved as a GeoJSON file. These plots were then merged using QGIS and uploaded to Google Earth Engine (GEE) as feature assets. The uploaded assets were used to define the study area for sampling MODIS Land Surface Temperature (LST) data.\n",
        "\n",
        "# Temperature Data\n",
        "# The temperature data in this project comes from the MODIS (Moderate Resolution Imaging Spectroradiometer) instrument on NASA's Terra satellite. The specific dataset used is the MODIS Land Surface Temperature and Emissivity Daily (MOD11A1) product, which provides daily LST at 1 km spatial resolution. The temperature values in the MOD11A1 dataset are provided in Kelvin and need to be converted to Celsius for easier interpretation.\n",
        "\n",
        "# MODIS Dataset Used\n",
        "# MODIS/061/MOD11A1: This dataset contains daily land surface temperature (LST) and emissivity data. The key parameters include:\n",
        "# LST_Day_1km: Daytime land surface temperature at 1 km resolution.\n",
        "# LST_Night_1km: Nighttime land surface temperature at 1 km resolution.\n",
        "# The MOD11A1 dataset provides temperature values in Kelvin, which are converted to Celsius by multiplying the values by a scaling factor of 0.02 and then subtracting 273.15."
      ],
      "metadata": {
        "id": "N6j7ElTZFhWU"
      },
      "execution_count": null,
      "outputs": []
    },
    {
      "cell_type": "code",
      "source": [
        "import ee\n",
        "import geemap\n",
        "# Authenticate with Earth Engine\n",
        "ee.Authenticate()\n",
        "ee.Initialize(project='serene-bastion-406504')"
      ],
      "metadata": {
        "id": "zueG1O_2HMdr"
      },
      "execution_count": null,
      "outputs": []
    },
    {
      "cell_type": "code",
      "source": [
        "import ee\n",
        "import pandas as pd\n",
        "from datetime import datetime, timedelta\n",
        "\n",
        "# Initialize the Earth Engine API\n",
        "ee.Initialize(project='serene-bastion-406504')\n",
        "\n",
        "# Define the region of interest (ROI)\n",
        "roi = ee.FeatureCollection(\"projects/serene-bastion-406504/assets/Demo_Merged_Plots\")\n",
        "\n",
        "# Define a date range for March 2023\n",
        "start_date = '2022-03-01'\n",
        "end_date = '2022-07-31'\n",
        "\n",
        "# Function to check the presence of MODIS LST images for a specific date\n",
        "def check_modis_lst_presence(date):\n",
        "    modis = ee.ImageCollection('MODIS/061/MOD11A1')\n",
        "    mod11a1 = modis.filterDate(date, ee.Date(date).advance(1, 'day'))\n",
        "    count = mod11a1.size().getInfo()\n",
        "    return count > 0\n",
        "\n",
        "# Function to sample MODIS LST at centroid for a specific date\n",
        "def sample_modis_lst_at_centroid(feature, date):\n",
        "    # Calculate the centroid of the feature\n",
        "    centroid = feature.geometry().centroid()\n",
        "\n",
        "    # Create a FeatureCollection with the centroid\n",
        "    centroid_fc = ee.FeatureCollection([ee.Feature(centroid)])\n",
        "\n",
        "    # Sample MODIS LST at the centroid for the specific date\n",
        "    modis = ee.ImageCollection('MODIS/061/MOD11A1')\n",
        "    mod11a1 = modis.filterDate(date, ee.Date(date).advance(1, 'day')).filterBounds(centroid)\n",
        "    modLSTday = mod11a1.select('LST_Day_1km')\n",
        "\n",
        "    def convert_to_celsius(img):\n",
        "        celsius = img.multiply(0.02).subtract(273.15).copyProperties(img, ['system:time_start'])\n",
        "        return celsius\n",
        "\n",
        "    modLSTc = modLSTday.map(convert_to_celsius)\n",
        "\n",
        "    # Sample MODIS LST at the centroid\n",
        "    samples = modLSTc.getRegion(centroid_fc, scale=1000)\n",
        "\n",
        "    return samples\n",
        "\n",
        "# Initialize list to hold all sampled data\n",
        "all_data = []\n",
        "\n",
        "# Loop through each feature (plot) in the ROI\n",
        "for feature in roi.toList(roi.size()).getInfo():\n",
        "    feature = ee.Feature(feature)\n",
        "    plot_name = feature.get('Plot_No').getInfo()  # Correctly extract plot name\n",
        "    print(f\"Processing plot {plot_name}...\")\n",
        "\n",
        "    # Loop through each date in the specified range\n",
        "    date = datetime.strptime(start_date, '%Y-%m-%d')\n",
        "    end = datetime.strptime(end_date, '%Y-%m-%d')\n",
        "\n",
        "    while date <= end:\n",
        "        date_str = date.strftime('%Y-%m-%d')\n",
        "\n",
        "        # Check if MODIS LST images are available for the specific date\n",
        "        if check_modis_lst_presence(date_str):\n",
        "            # Sample MODIS LST at the centroid for the specific date\n",
        "            try:\n",
        "                samples = sample_modis_lst_at_centroid(feature, date_str)\n",
        "\n",
        "                # Convert ee.List to Python list\n",
        "                samples = samples.getInfo()\n",
        "\n",
        "                # Check if samples were retrieved\n",
        "                if samples:\n",
        "                    # Convert the samples to a DataFrame\n",
        "                    header = samples[0]\n",
        "                    data = pd.DataFrame(samples[1:], columns=header)\n",
        "\n",
        "                    # Extract relevant columns (longitude, latitude, LST, time)\n",
        "                    df = data[['longitude', 'latitude', 'LST_Day_1km', 'time']]\n",
        "\n",
        "                    # Rename columns\n",
        "                    df.columns = ['Longitude', 'Latitude', 'LST_Celsius', 'Unix_Time']\n",
        "\n",
        "                    # Convert Unix time to human-readable date\n",
        "                    df['Date'] = pd.to_datetime(df['Unix_Time'], unit='ms').dt.strftime('%Y-%m-%d')\n",
        "\n",
        "                    # Drop the Unix_Time column\n",
        "                    df = df.drop(columns=['Unix_Time'])\n",
        "\n",
        "                    # Drop rows with null LST_Celsius values\n",
        "                    df = df.dropna(subset=['LST_Celsius'])\n",
        "\n",
        "                    # Add plot number to the DataFrame\n",
        "                    df['Plot_No'] = plot_name\n",
        "\n",
        "                    # Append to all_data\n",
        "                    all_data.append(df)\n",
        "                else:\n",
        "                    # If no samples, create an empty entry for that date\n",
        "                    df = pd.DataFrame({\n",
        "                        'Longitude': [None],\n",
        "                        'Latitude': [None],\n",
        "                        'LST_Celsius': [None],\n",
        "                        'Date': [date_str],\n",
        "                        'Plot_No': [plot_name]\n",
        "                    })\n",
        "                    all_data.append(df)\n",
        "            except ee.EEException as e:\n",
        "                print(f\"No MODIS LST data found for plot {plot_name} on {date_str}: {e}\")\n",
        "                # Create an empty entry for that date\n",
        "                df = pd.DataFrame({\n",
        "                    'Longitude': [None],\n",
        "                    'Latitude': [None],\n",
        "                    'LST_Celsius': [None],\n",
        "                    'Date': [date_str],\n",
        "                    'Plot_No': [plot_name]\n",
        "                })\n",
        "                all_data.append(df)\n",
        "        else:\n",
        "            print(f\"No MODIS LST images available for {date_str}.\")\n",
        "            # Create an empty entry for that date\n",
        "            df = pd.DataFrame({\n",
        "                'Longitude': [None],\n",
        "                'Latitude': [None],\n",
        "                'LST_Celsius': [None],\n",
        "                'Date': [date_str],\n",
        "                'Plot_No': [plot_name]\n",
        "            })\n",
        "            all_data.append(df)\n",
        "\n",
        "        # Move to the next date\n",
        "        date += timedelta(days=1)\n",
        "\n",
        "# Concatenate all DataFrames into one\n",
        "if all_data:\n",
        "    df_all = pd.concat(all_data, ignore_index=True)\n",
        "\n",
        "    # Calculate max and min LST values for each plot\n",
        "    df_all['LST_Celsius'] = pd.to_numeric(df_all['LST_Celsius'], errors='coerce')\n",
        "    max_lst = df_all.groupby('Plot_No')['LST_Celsius'].transform('max')\n",
        "    min_lst = df_all.groupby('Plot_No')['LST_Celsius'].transform('min')\n",
        "\n",
        "    # Add max and min LST values to the DataFrame\n",
        "    df_all['Max_LST_Celsius'] = max_lst\n",
        "    df_all['Min_LST_Celsius'] = min_lst\n",
        "\n",
        "    # Save to CSV\n",
        "    df_all.to_csv('Combined_MODIS_LST.csv', index=False)\n",
        "\n",
        "    print(\"CSV file created successfully.\")\n",
        "else:\n",
        "    print(\"No data sampled.\")\n"
      ],
      "metadata": {
        "colab": {
          "base_uri": "https://localhost:8080/",
          "height": 280
        },
        "id": "kC5fU8MTC5Ml",
        "outputId": "97d83dd2-45bf-46d1-b552-ab86bd80efaf"
      },
      "execution_count": null,
      "outputs": [
        {
          "output_type": "display_data",
          "data": {
            "text/plain": [
              "<IPython.core.display.HTML object>"
            ],
            "text/html": [
              "\n",
              "            <style>\n",
              "                .geemap-dark {\n",
              "                    --jp-widgets-color: white;\n",
              "                    --jp-widgets-label-color: white;\n",
              "                    --jp-ui-font-color1: white;\n",
              "                    --jp-layout-color2: #454545;\n",
              "                    background-color: #383838;\n",
              "                }\n",
              "\n",
              "                .geemap-dark .jupyter-button {\n",
              "                    --jp-layout-color3: #383838;\n",
              "                }\n",
              "\n",
              "                .geemap-colab {\n",
              "                    background-color: var(--colab-primary-surface-color, white);\n",
              "                }\n",
              "\n",
              "                .geemap-colab .jupyter-button {\n",
              "                    --jp-layout-color3: var(--colab-primary-surface-color, white);\n",
              "                }\n",
              "            </style>\n",
              "            "
            ]
          },
          "metadata": {}
        },
        {
          "output_type": "stream",
          "name": "stdout",
          "text": [
            "Processing plot Plot1...\n",
            "Processing plot Plot2...\n",
            "Processing plot Plot3...\n",
            "Processing plot Plot4...\n",
            "Processing plot Plot5...\n",
            "Processing plot Plot6...\n",
            "Processing plot Plot7...\n",
            "Processing plot Plot8...\n",
            "Processing plot Plot9...\n"
          ]
        },
        {
          "output_type": "stream",
          "name": "stderr",
          "text": [
            "WARNING:googleapiclient.http:Sleeping 1.60 seconds before retry 1 of 5 for request: POST https://earthengine.googleapis.com/v1/projects/serene-bastion-406504/value:compute?prettyPrint=false&alt=json, after 502\n"
          ]
        },
        {
          "output_type": "stream",
          "name": "stdout",
          "text": [
            "Processing plot Plot10...\n",
            "CSV file created successfully.\n"
          ]
        },
        {
          "output_type": "stream",
          "name": "stderr",
          "text": [
            "<ipython-input-3-19df12aab16d>:135: FutureWarning: The behavior of DataFrame concatenation with empty or all-NA entries is deprecated. In a future version, this will no longer exclude empty or all-NA columns when determining the result dtypes. To retain the old behavior, exclude the relevant entries before the concat operation.\n",
            "  df_all = pd.concat(all_data, ignore_index=True)\n"
          ]
        }
      ]
    }
  ]
}